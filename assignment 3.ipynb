{
  "nbformat": 4,
  "nbformat_minor": 0,
  "metadata": {
    "colab": {
      "provenance": []
    },
    "kernelspec": {
      "name": "python3",
      "display_name": "Python 3"
    },
    "language_info": {
      "name": "python"
    }
  },
  "cells": [
    {
      "cell_type": "code",
      "execution_count": null,
      "metadata": {
        "colab": {
          "base_uri": "https://localhost:8080/"
        },
        "id": "sanS32KpikWJ",
        "outputId": "ccad35e3-f4bb-402a-f994-1d1a2dec389a"
      },
      "outputs": [
        {
          "output_type": "stream",
          "name": "stdout",
          "text": [
            "enter a vowel: hashir\n",
            "number of vowel  2\n"
          ]
        }
      ],
      "source": [
        "#task 01\n",
        "text = input(\"enter a vowel: \")\n",
        "vowelcount = 0\n",
        "vowel = \"aeiouAEIOU\"\n",
        "for i in text:\n",
        "   if i in vowel:\n",
        "    vowelcount += 1\n",
        "\n",
        "print(\"number of vowel \" , vowelcount)\n"
      ]
    },
    {
      "cell_type": "code",
      "source": [
        "#task 02\n",
        "sentence = input(\"Enter a string: \")\n",
        "words = sentence.split()\n",
        "for i in words:\n",
        " print(\"reverse the string\",i[::-1], end=' ')\n"
      ],
      "metadata": {
        "colab": {
          "base_uri": "https://localhost:8080/"
        },
        "id": "C2de4Kk6Wx4C",
        "outputId": "bf967203-b5db-42d8-9255-ea8c567c1f97"
      },
      "execution_count": null,
      "outputs": [
        {
          "output_type": "stream",
          "name": "stdout",
          "text": [
            "Enter a string: hashir\n",
            "reverse the string rihsah "
          ]
        }
      ]
    },
    {
      "cell_type": "code",
      "source": [
        "#task 03\n",
        "user = input(\"Enter a string: \")\n",
        "used = user.replace(' ',' ').lower()\n",
        "her = used[::-1]\n",
        "\n",
        "if used == her:\n",
        "    print(\"Palindrome\")\n",
        "else:\n",
        "    print(\"Not Palindrome\")\n"
      ],
      "metadata": {
        "colab": {
          "base_uri": "https://localhost:8080/"
        },
        "id": "n-MjgbS2pG19",
        "outputId": "2a4be432-aefb-4cae-ab5a-3dba83fb0c05"
      },
      "execution_count": null,
      "outputs": [
        {
          "output_type": "stream",
          "name": "stdout",
          "text": [
            "Enter a string: madam\n",
            "Palindrome\n"
          ]
        }
      ]
    },
    {
      "cell_type": "code",
      "source": [
        "#task 04\n",
        "yat = \"hashir\"\n",
        "done = \"\"\n",
        "for i in yat:\n",
        "   if yat.count(i) > 1 and i not in done:\n",
        "       print(i,\"=\",yat.count(i))\n",
        "       done += i"
      ],
      "metadata": {
        "id": "8X9I37I6pdhA",
        "colab": {
          "base_uri": "https://localhost:8080/"
        },
        "outputId": "391a9ea0-f544-4354-f8ba-34ada29814fe"
      },
      "execution_count": null,
      "outputs": [
        {
          "output_type": "stream",
          "name": "stdout",
          "text": [
            "h = 2\n"
          ]
        }
      ]
    },
    {
      "cell_type": "code",
      "source": [
        "#task 05\n",
        "text = input(\"enter a string: \")\n",
        "result = \"\"\n",
        "\n",
        "for i in text:\n",
        "    if i not in  result:\n",
        "        result += i\n",
        "\n",
        "print(\"After remove a duplicate character: \",result )"
      ],
      "metadata": {
        "id": "W6RdlTFB1WPA",
        "colab": {
          "base_uri": "https://localhost:8080/"
        },
        "outputId": "a684bfdc-17fe-4de7-a18b-7673459d6567"
      },
      "execution_count": null,
      "outputs": [
        {
          "output_type": "stream",
          "name": "stdout",
          "text": [
            "enter a string: hashir\n",
            "After remove a duplicate character:  hasir\n"
          ]
        }
      ]
    },
    {
      "cell_type": "code",
      "source": [
        "#task 06\n",
        "password = input(\"Password likhiye: \")\n",
        "\n",
        "has_upper = False\n",
        "has_digit = False\n",
        "has_special = False\n",
        "\n",
        "special_characters = \"!@#$%^&*()-_+=<>?/\\\\|{}[]~`\"\n",
        "\n",
        "# Har character ko check karo\n",
        "for char in password:\n",
        "    if char.isupper():\n",
        "        has_upper = True\n",
        "    elif char.isdigit():\n",
        "        has_digit = True\n",
        "    elif char in special_characters:\n",
        "        has_special = True\n",
        "\n",
        "# Final conditions check karo\n",
        "if len(password) >= 8 and has_upper and has_digit and has_special:\n",
        "    print(\"Password strong hai 💪\")\n",
        "else:\n",
        "    print(\"Password weak hai ❌\")\n",
        "    if len(password) < 8:\n",
        "        print(\"- Kam az kam 8 characters hone chahiye.\")\n",
        "    if not has_upper:\n",
        "        print(\"- Kam az kam 1 uppercase letter hona chahiye.\")\n",
        "    if not has_digit:\n",
        "        print(\"- Kam az kam 1 digit (0-9) honi chahiye.\")\n",
        "    if not has_special:\n",
        "        print(\"- Kam az kam 1 special character hona chahiye.\")\n"
      ],
      "metadata": {
        "colab": {
          "base_uri": "https://localhost:8080/"
        },
        "id": "7w2nLFPcFzuA",
        "outputId": "61697eb8-2cc2-416d-d3e3-112a27ce0bb4"
      },
      "execution_count": 19,
      "outputs": [
        {
          "output_type": "stream",
          "name": "stdout",
          "text": [
            "Password likhiye: Hashir12@\n",
            "Password strong hai 💪\n"
          ]
        }
      ]
    },
    {
      "cell_type": "code",
      "source": [
        "#task 07\n",
        "eat = input(\"Enter a long sentence: \")\n",
        "long = eat.split()\n",
        "longest = \"\"\n",
        "for i in long:\n",
        "  if len(i) > len(longest):\n",
        "    longest = i\n",
        "print(\"The longest word is: \",longest)"
      ],
      "metadata": {
        "colab": {
          "base_uri": "https://localhost:8080/"
        },
        "id": "IhPtzLyozmGU",
        "outputId": "82b4b7b0-faf7-48cd-c548-67e8b701abfb"
      },
      "execution_count": null,
      "outputs": [
        {
          "output_type": "stream",
          "name": "stdout",
          "text": [
            "Enter a long sentence: my anme is hashir\n",
            "The longest word is:  hashir\n"
          ]
        }
      ]
    },
    {
      "cell_type": "code",
      "source": [
        "#task 08\n",
        "text = input(\"Enter a string: \")\n",
        "result = \"\"\n",
        "vowel = \"aeiouAEIOU\"\n",
        "for i in text:\n",
        "  if i in vowel:\n",
        "    result += \"*\"\n",
        "  else:\n",
        "    result += i\n",
        "print(\"modified vowel\",result)"
      ],
      "metadata": {
        "colab": {
          "base_uri": "https://localhost:8080/"
        },
        "id": "lmOVenUT1i4b",
        "outputId": "41dd4483-20f4-4292-ee25-45df807c5247"
      },
      "execution_count": null,
      "outputs": [
        {
          "output_type": "stream",
          "name": "stdout",
          "text": [
            "Enter a string: hello world\n",
            "modified vowel h*ll* w*rld\n"
          ]
        }
      ]
    },
    {
      "cell_type": "code",
      "source": [
        "#task 09\n",
        "program = input(\"Enter a sentence: \")\n",
        "vowel = \"aeiouAEIOU\"\n",
        "words = program.split()  # split sentence into words\n",
        "count = 0\n",
        "\n",
        "for i in words:\n",
        "    if i[0] in vowel:  # check if word starts with a vowel\n",
        "        count += 1\n",
        "\n",
        "print(\"Number of words that start with a vowel:\", count)\n"
      ],
      "metadata": {
        "id": "Psgfvmgd8C7Y"
      },
      "execution_count": null,
      "outputs": []
    },
    {
      "cell_type": "code",
      "source": [
        "#task 10\n",
        "text = input(\"Enter a string: \")\n",
        "for i in text:\n",
        "    if text.count(i)==1:\n",
        "      print(\"Non repeatig character hai: \", i)\n",
        "      break\n",
        "else:\n",
        "  print(\"koi non repeating character nahi mila\")"
      ],
      "metadata": {
        "colab": {
          "base_uri": "https://localhost:8080/"
        },
        "id": "mvvupOhK8aGA",
        "outputId": "e8f93176-629d-47b5-d6ed-52bd36964272"
      },
      "execution_count": 12,
      "outputs": [
        {
          "output_type": "stream",
          "name": "stdout",
          "text": [
            "Enter a string: \n",
            "koi non repeating character nahi mila\n"
          ]
        }
      ]
    }
  ]
}